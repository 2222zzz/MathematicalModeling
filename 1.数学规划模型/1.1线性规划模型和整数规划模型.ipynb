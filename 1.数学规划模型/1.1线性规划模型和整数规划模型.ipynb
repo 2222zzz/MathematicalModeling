{
 "cells": [
  {
   "cell_type": "markdown",
   "metadata": {},
   "source": [
    "# 数学规划模型"
   ]
  },
  {
   "cell_type": "markdown",
   "metadata": {},
   "source": [
    "**优化问题**一般是指用“最好”的方式，使用或分配如劳动力，原材料，设备，资金等有限的资源，使得投入成本最小或者获利最大，其可以归结为如下优化模型：\n",
    "\n",
    "\\begin{equation}\n",
    "min(max) \\quad z=f(x)\\\\\n",
    "\\text{s.t.}  \\quad g_i(x)\\leq0,i=1,2,..m\n",
    "\\label{equ1}\\tag{1}\n",
    "\\end{equation}\n",
    "\n",
    "其中，$\\mathbf{x}=\\{x_1,x_2,...x_n\\}$表示决策变量，$f(x)$表示目标函数，$g_i(x)\\leq 0(i=1,2,...,m)$表示约束条件。约束条件决定了决策变量$\\mathbf{x}$的允许取值范围，即$\\mathbf{x}\\in\\Omega$，其中$\\Omega$称为(\\ref{equ1})解的可行域"
   ]
  },
  {
   "cell_type": "markdown",
   "metadata": {},
   "source": [
    "当打算用**数学规划**的方法来处理一个**优化问题**的时候\n",
    "+ 1 首先要确定**优化目标**是什么，决定优化目标需寻求的决策是什么，决策收到哪些条件的限制\n",
    "+ 2 再次用数学工具表示出来，即建立数学规划模型\n",
    "+ 3 最后利用数学规划的方法和相应软件求解，并对结果做一些定性，定量的分析和必要的检验"
   ]
  },
  {
   "cell_type": "markdown",
   "metadata": {},
   "source": [
    "> 根据目标函数和约束条件的形式，可将数学规划模型分为<br>**1.线性规划模型，2.整数规划模型，3.非线性规划模型，4.目标规划模型和5.动态规划模型**   等"
   ]
  },
  {
   "cell_type": "markdown",
   "metadata": {},
   "source": [
    "##  线性规划模型"
   ]
  },
  {
   "cell_type": "markdown",
   "metadata": {},
   "source": [
    "当(1)中的目标函数$f(x)$和约束条件中的$g_i(x)(i=1,2,...m)$均为线性函数时，称模型（1）为线性规划模型，线性规划模型可以具体表示为：\n",
    "\n",
    "\\begin{equation}\n",
    "min(max) \\quad z=\\sum_{i=1}^nc_ix_i\\\\\n",
    "\\text{s.t.}  \\quad \\sum_{j=1}^na_{ij}x_j\\leq b_i,i=1,2,..m\n",
    "\\label{equ2}\\tag{2}\n",
    "\\end{equation}\n",
    "\n",
    "矩阵形式为：\n",
    "\n",
    "\\begin{equation}\n",
    "min(max) \\quad z=\\mathbf{c}^T\\mathbf{x}\\\\\n",
    "\\text{s.t.} \\quad \\mathbf{Ax}\\leq \\mathbf{b},i=1,2,..m\n",
    "\\label{equ3}\\tag{3}\n",
    "\\end{equation}\n",
    "\n",
    "其中，$\\mathbf{x}=\\{x_1,x_2,...x_n\\}^T$为决策向量；$\\mathbf{c}=\\{c_1,c_2,...c_n\\}^T$为目标函数的系数向量，$\\mathbf{b}=\\{b_1,b_2,...b_n\\}^T$为常数向量，$A=(a_{ij})_{m\\times n}$为系数矩阵"
   ]
  },
  {
   "cell_type": "markdown",
   "metadata": {},
   "source": [
    "### 线性规划模型的建立"
   ]
  },
  {
   "cell_type": "markdown",
   "metadata": {},
   "source": [
    "**例1.1** 任务分配问题\n",
    "\n",
    "**问题**： 某车间有甲，乙两台机床，可用于加工3种工件。假定这两台车床的可用台时数分别为800和900，3种工件的数量分别为400,600和500，且已知用2种不同车床加工单位数量不同的工件所需的台时数和加工费用如表1.1所示。\n",
    "\n",
    "| 车床类型 |  单位加工所需加工台时数   |  单位加工的加工费用       | 可用台时数 |\n",
    "|----------|------------------------|--------------------|------------|\n",
    " | -   |   工件1  &  工件2&  工件3 | 工件1 &工件2 &工件3 |            |\n",
    "| 甲       | 0.4 & 1.1&  1.0   | 13  &9& 10    | 800        |\n",
    "| 乙       | 0.5  &  1.2 &  1.3   | 11 &12 &8   | 900        |\n",
    "\n",
    "**问：** 怎样分配车床的加工任务，才能既满足加工工件的要求，又使加工费用最低？\n",
    "\n",
    "**问题分析：**\n",
    "+ 这个优化问题的目标是使加工费用最低\n",
    "+ 要做的决策是根据甲乙机床加工三种工件的加工时间和费用来分配两种机床对三种工件的加工任务，使得在满足任务的情况下，加工费用最低。\n",
    "**建模步骤**：\n",
    "\n",
    "（1）寻求决策\n",
    "\n",
    "要回答的是，给两种机床的任务分配如何以及加工费用为多少\n",
    "\n",
    "（2）决定决策变量\n",
    "\n",
    "本问题中，决定决策（加工费用）的是两种机床分别将加工三种工件的数量，所以设分配给甲机床的加工三种工件的数量分别为$x_1,x_2,x_3$，同理，分配给乙的设为$x_3,x_4,x_5$\n",
    "\n",
    "（3）确定优化目标\n",
    "\n",
    "本问题的目标是使加工费用最低，则目标函数可表示为：\n",
    "\n",
    "$$z=13x_1+9x_2+10x_3+11x_4+12x_5+8x_6$$\n",
    "\n",
    "（4）寻找约束条件\n",
    "\n",
    "不难得知两个机床关于三种工件的加工数量的约束是3个**等式约束**，机床的可用台时数是2个**不等式约束**，此外，根据问题实际，各决策变量还有**非负约束**\n",
    "\n",
    "（5）构成数学模型\n",
    "\n",
    "将目标函数和约束条件放在一起，就得到了数学模型：\n",
    "\\begin{equation}\n",
    "min \\quad z=13x_1+9x_2+10x_3+11x_4+12x_5+8x_6  \\\\\n",
    "s.t. =\\left\\{\n",
    "\\begin{aligned}\n",
    "x_1 +x_4& = &400  \\\\\n",
    "x_2 +x_5& = &600  \\\\\n",
    "x_3 +x_6& = &500  \\\\\n",
    "0.4x_1+1.1x_2+x_3 &\\leq& 800 \\\\\n",
    "0.5x_4+1.2x_5+1.3x_6 &\\leq& 900  \\\\\n",
    "x_i \\geq 0,i=1,2,...6\n",
    "\\end{aligned}\n",
    "\\right.\n",
    "\\end{equation}"
   ]
  },
  {
   "cell_type": "markdown",
   "metadata": {},
   "source": [
    "### 线性规划模型的求解"
   ]
  },
  {
   "cell_type": "markdown",
   "metadata": {},
   "source": [
    "python求解线性规划的函数：[scipy.optimize.linprog](https://docs.scipy.org/doc/scipy/reference/generated/scipy.optimize.linprog.html#scipy.optimize.linprog)\n",
    "\n",
    "+  minimize a linear objective function subject to linear equality and inequality constraints. 根据受到的线性等式和不等式约束来最小化线性目标函数\n",
    "\n",
    "+ 其数学求解形式如下：\n",
    "\\begin{equation}\n",
    "min  \\quad c^Tx  \\\\\n",
    "s.t. =\\left\\{\n",
    "\\begin{aligned}\n",
    "\\mathbf{Ax} & \\leq & b  \\\\\n",
    "A_{eq}x & = & b_{eq}  \\\\\n",
    "l<x<u\n",
    "\\end{aligned}\n",
    "\\right.\n",
    "\\end{equation}\n",
    "\n",
    "其中$x$是decision variables（决策变量），$c,b,b_{eq},l,u$都是向量,$A,A_{eq}$都是矩阵. \n",
    "\n",
    "python的线性规划实现和matlab很像,只有一个bound参数需要注意，python中，bound是使用(min,max)这样的元组对的序列，即，每个变量对应一个这样的数对。\n",
    "使用None表示没有上下阈限制。**默认：上下限是(0,None)即所有的决策变量都是非负的。如果只提供了一个(min，max)对，那么这个min和max会用于所有的决策变量**"
   ]
  },
  {
   "cell_type": "code",
   "execution_count": 1,
   "metadata": {},
   "outputs": [],
   "source": [
    "import numpy as np\n",
    "import scipy\n",
    "from scipy import optimize\n",
    "\n",
    "# 定义所需的变量\n",
    "c=np.array([13,9,10,11,12,8])\n",
    "A=np.array(\n",
    "  [[0.4,1.1,1,0,0,0],\n",
    "   [0,0,0,0.5,1.2,1.3]\n",
    "  ])\n",
    "b=np.array([800,900])\n",
    "Aeq=np.array([\n",
    "    [1,0,0,1,0,0],\n",
    "    [0,1,0,0,1,0],\n",
    "    [0,0,1,0,0,1]\n",
    "])\n",
    "beq=np.array([400,600,500])\n",
    "\n",
    "# 调用函数计算\n",
    "res=scipy.optimize.linprog(c=c,A_ub=A,b_ub=b,A_eq=Aeq,b_eq=beq,bounds=((0,None)))\n",
    "\n",
    "#查看函数的返回值，res.x返回的就是决策变量的值， res.fun返回的就是当前目标函数的值（决策变量计算后的值对应的目标函数，也就是优化目标的结果）"
   ]
  },
  {
   "cell_type": "code",
   "execution_count": 2,
   "metadata": {},
   "outputs": [
    {
     "data": {
      "text/plain": [
       "array([  0., 600.,   0., 400.,   0., 500.])"
      ]
     },
     "execution_count": 2,
     "metadata": {},
     "output_type": "execute_result"
    }
   ],
   "source": [
    "res.x"
   ]
  },
  {
   "cell_type": "code",
   "execution_count": 3,
   "metadata": {},
   "outputs": [
    {
     "data": {
      "text/plain": [
       "13800.0"
      ]
     },
     "execution_count": 3,
     "metadata": {},
     "output_type": "execute_result"
    }
   ],
   "source": [
    "res.fun"
   ]
  },
  {
   "cell_type": "markdown",
   "metadata": {},
   "source": [
    "**结果：**\n",
    "\n",
    "即在甲机床上加工600个工件2，在乙机床上加工400个工件1和500个工件3，可以使得花费最少，为13800"
   ]
  },
  {
   "cell_type": "markdown",
   "metadata": {},
   "source": [
    "### 模型分析与评价"
   ]
  },
  {
   "cell_type": "markdown",
   "metadata": {},
   "source": [
    "#### 灵敏性分析"
   ]
  },
  {
   "cell_type": "markdown",
   "metadata": {},
   "source": [
    "目前没有找到相应的python实现"
   ]
  },
  {
   "cell_type": "markdown",
   "metadata": {},
   "source": [
    "### 可以转换为线性规划的问题"
   ]
  },
  {
   "cell_type": "markdown",
   "metadata": {},
   "source": [
    "其实就是一些数学上的变换"
   ]
  },
  {
   "cell_type": "markdown",
   "metadata": {},
   "source": [
    "**例1.2** 一个工厂的甲乙丙三个车间生产同一种产品，每个产品由4个零件A和3个零件B组成，这两种零件耗用两种不同的原材料，而这两种原材料的现有数额分别是300公斤和400公斤。每个车间的原材料耗用和零件产量如下表所示，问：这三个车间应该各开多少班，才能使这种产品的配套数最大。\n",
    "\n",
    "| 车间 | 每班用料数  | 每班产量（个） |\n",
    "|------|-------|-------|\n",
    "|    -  | 原料1&原料2 | 零件A&零件B    |\n",
    "| 甲   | 8&6         | 7&5            |\n",
    "| 乙   | 5&9         | 6&9            |\n",
    "| 丙   | 3&8         | 8&4            |"
   ]
  },
  {
   "cell_type": "markdown",
   "metadata": {},
   "source": [
    "**建模步骤**：\n",
    "\n",
    "和上面一样，分别进行**寻求决策，决定决策变量，确定优化目标，寻找约束条件，构建数学模型**\n",
    "\n",
    "+ 设甲乙丙三个车间的班数为$x_1,x_2,x_3$,\n",
    "+ 优化目标是使产品配套数最大，甲乙丙生产A零件的是$7x_1+6x_2+8x_3$,生产B零件是$5x_1+9x_2+4x_3$，由于每个产品需要4个A和3个B，所以产品的最大量是$\\frac{7x_1+6x_2+8x_3}{4}$和$\\frac{5x_1+9x_2+4x_3}{3}$中较小的一个，即$S=min\\{\\frac{7x_1+6x_2+8x_3}{4},\\frac{5x_1+9x_2+4x_3}{3}\\}$\n",
    "+ 目前得到了数学模型：\n",
    "\\begin{equation}\n",
    "max \\quad S=min\\{\\frac{7x_1+6x_2+8x_3}{4},\\frac{5x_1+9x_2+4x_3}{3}\\}  \\\\\n",
    "s.t. =\\left\\{\n",
    "\\begin{aligned}\n",
    "8x_1+5x_2+3x_3 \\leq 300 \\\\ \n",
    "6x_1+9x_2+8x_3 \\leq 400  \\\\\n",
    "x_1,x_2,x_3 \\geq 0\n",
    "\\end{aligned}\n",
    "\\right.\n",
    "\\label{equ4}\\tag{4}\n",
    "\\end{equation}\n",
    "\n",
    "可以很明显看出，(\\ref{equ4})中的目标函数不是线性函数，所以需要通过适当的变换变成线性函数。。。比较偏近数学了"
   ]
  },
  {
   "cell_type": "markdown",
   "metadata": {},
   "source": [
    "\\begin{equation}\n",
    "y=min\\{\\frac{7x_1+6x_2+8x_3}{4},\\frac{5x_1+9x_2+4x_3}{3}\\}  \\\\\n",
    "\\text{上式等价于}\n",
    "\\frac{7x_1+6x_2+8x_3}{4} \\geq y,\\frac{5x_1+9x_2+4x_3}{3}\\geq y \\\\\n",
    "\\end{equation}"
   ]
  },
  {
   "cell_type": "markdown",
   "metadata": {},
   "source": [
    "\\begin{equation}\n",
    "max  \\quad S=y  \\\\\n",
    "s.t. =\\left\\{\n",
    "\\begin{aligned}\n",
    "7x_1+6x_2+8x_3-4y \\geq 0 \\\\\n",
    "5x_1+9x_2+4x_3-3y \\geq 0 \\\\\n",
    "8x_1+5x_2+3x_3 \\leq 300 \\\\ \n",
    "6x_1+9x_2+8x_3 \\leq 400  \\\\\n",
    "x_1,x_2,x_3,y \\geq 0\n",
    "\\end{aligned}\n",
    "\\right.\n",
    "\\end{equation}\n",
    "\n",
    "由于python求解线性规划的标准形式中是求目标函数的最小值，同时不等式约束全部都是 $\\leq$,所以对上式进行变换，对目标函数和前两个不等式约束左右两边$ equation\\times(-1)$即可,变为\n",
    "\n",
    "\\begin{equation}\n",
    "min  \\quad S^{'}=-y  \\\\\n",
    "s.t. =\\left\\{\n",
    "\\begin{aligned}\n",
    "-7x_1-6x_2-8x_3+4y \\leq 0 \\\\\n",
    "-5x_1-9x_2-4x_3+3y \\leq 0 \\\\\n",
    "8x_1+5x_2+3x_3 \\leq 300 \\\\ \n",
    "6x_1+9x_2+8x_3 \\leq 400  \\\\\n",
    "x_1,x_2,x_3,y \\geq 0\n",
    "\\end{aligned}\n",
    "\\right.\n",
    "\\end{equation}"
   ]
  },
  {
   "cell_type": "code",
   "execution_count": 4,
   "metadata": {},
   "outputs": [],
   "source": [
    "# 然后再进行求解\n",
    "c=np.array([0,0,0,-1])\n",
    "A=np.array([\n",
    "    [-7,-6,-8,4],\n",
    "    [-5,-9,-4,3],\n",
    "    [8,5,3,0],\n",
    "    [6,9,8,0]\n",
    "])\n",
    "b=[0,0,300,500]\n",
    "res=scipy.optimize.linprog(c=c,A_ub=A,b_ub=b,bounds=((0,None)))"
   ]
  },
  {
   "cell_type": "code",
   "execution_count": 5,
   "metadata": {},
   "outputs": [
    {
     "data": {
      "text/plain": [
       "array([ 15.12319456,  15.71792693,  33.47493628, 116.99235344])"
      ]
     },
     "execution_count": 5,
     "metadata": {},
     "output_type": "execute_result"
    }
   ],
   "source": [
    "res.x"
   ]
  },
  {
   "cell_type": "markdown",
   "metadata": {},
   "source": [
    "**结果**：\n",
    "\n",
    "甲乙丙的班数分别为 15.1232,15.7189,33.4749，生产的产品配套数最大，为116.9924套。\n",
    "\n",
    "**注意**：\n",
    "一般而言，上述问题的结果应该是整数，所以该线性规划的决策变量应还原为整数，也就是需要增加一个整数约束。"
   ]
  },
  {
   "cell_type": "markdown",
   "metadata": {},
   "source": [
    "## 整数规划模型"
   ]
  },
  {
   "cell_type": "markdown",
   "metadata": {},
   "source": [
    "**Integer Programming**，相应的，**线性规划**的英文是**Linear programming**，所以**整数线性规划**的英语是**ilp/ILP**\n",
    "\n",
    "当（1）中的决策变量$x_i,(i=1,2,...n)$(部分或全部)均为整数时称模型为 **整数规划模型**。\n",
    "\n",
    "整数规划模型可以是线性的，也可以是非线性的，其大致可分为三类：\n",
    "+ 当变量全部被限制要求为整数时（即所有决策变量根据问题实际，其数据类型需要为整数），称为完全（纯）整数规划模型\n",
    "+ 当只需要部分变量被限制为整数时，称为混合整数规划模型\n",
    "+ 当变量只能取0或者1时，称为0-1规划模型。\n",
    "+ 当整数规划模型为线性规划模型时，称为整数线性规划模型。\n",
    "\n",
    "**注意**:\n",
    "看起来好像求解整数规划模型时，只需要把已得的非整数解去掉非整数部分化为整数就可以了，实际上化整后得到的解不一定是可行解和最优解，除非原线性规划的最优解本来就全是整数，则整数规划的最优解与线性规划的最优解一致，此时可以用求解线性规划的方法求解整数规划。\n",
    "\n",
    "不过，大多数整数规划模型，需要寻求特殊的解法，由于至今尚未找到一般的求解整数规划模型多项式解法，所以这里只针对一些经典的整数规划问题，讨论建模过程和相应的计算机算法。\n",
    "\n"
   ]
  },
  {
   "cell_type": "markdown",
   "metadata": {},
   "source": [
    "根据[Stack Overflow的回答](https://stackoverflow.com/questions/39101137/how-can-i-get-integer-solutions-with-scipy-optimize-linprog),可以知道，无法直接通过scipy.optimize.linprog加上整数限制来得到整数规划模型，需要借用别的python库来实现。。例如：\n",
    "[Pulp](https://pypi.org/project/PuLP/),[Pyomo](http://www.pyomo.org/),[CVXOPT](http://cvxopt.org/),网上搜索了一下，CVXOPT用的稍微多一点"
   ]
  },
  {
   "cell_type": "markdown",
   "metadata": {},
   "source": [
    "### CVXOPT库简单认识"
   ]
  },
  {
   "cell_type": "markdown",
   "metadata": {},
   "source": [
    "cvxpy库 [参考链接1](https://towardsdatascience.com/integer-programming-in-python-1cbdfa240df2),[对应的中文翻译页面](http://www.360doc.com/content/18/0515/07/47919125_754023581.shtml),<br>\n",
    "cvxopt库 [线性规划相关的solver](http://cvxopt.org/userguide/coneprog.html#optional-solvers),\n",
    "[GLPK](http://www.gnu.org/software/glpk/glpk.html),\n",
    "[代码实例](https://nbviewer.jupyter.org/gist/linuxster/7295256),\n",
    "[CVXOPT matrix 定义](https://cvxopt.org/userguide/matrices.html)"
   ]
  },
  {
   "cell_type": "markdown",
   "metadata": {},
   "source": [
    "### 应用解决问题"
   ]
  },
  {
   "cell_type": "code",
   "execution_count": 38,
   "metadata": {},
   "outputs": [],
   "source": [
    "from cvxopt.glpk import ilp\n",
    "import numpy as np\n",
    "from cvxopt import matrix\n",
    "\n",
    "#依旧是上面的问题，但是要加入整数限制。 使用help(ilp)查看这个函数的用法\n",
    "# 注意， 在调用ilp时， G must be a 'd' matrix  所以最好还是直接使用cvxopt自带的定义数据功能\n",
    "#ilp算法中除了I B两个参数，其余都要求是matrix类型\n",
    "\n",
    "#写法1 改对了\n",
    "# c=matrix([0,0,0,-1],(4,1),tc='d')\n",
    "# G=matrix([-7,-5,8,6, -6,-9,5,9, -8,-4,3,8, 4,3,0,0],(4,4),tc='d')\n",
    "# h=matrix([0,0,300,500],(4,1),tc='d')\n",
    "\n",
    "#这里很奇怪，c和G需要用numpy定义成float类型，常数向量可以直接用matrix定义d类型  tc typecode，\n",
    "# 不然产生的status是'LP relaxation is dual infeasible'，x（要求的决策向量）就是空\n",
    "# 原因是  matrix的定义和numpy中不一样,matrix中的定义与numpy刚好是转置的关系，改成上面那样就好了，\n",
    "# 所以为了方便自己的习惯，还是用下面这个好一些\n",
    "\n",
    "c=matrix(np.array([0,0,0,-1],dtype=float))\n",
    "G=matrix(np.array([\n",
    "    [-7,-6,-8,4],\n",
    "    [-5,-9,-4,3],\n",
    "    [8,5,3,0],\n",
    "    [6,9,8,0]],dtype=float))\n",
    "h=matrix([0,0,300,500],tc='d')\n",
    "\n",
    "#4个整数变量，所以I应该是4个整数 \n",
    "(status,x)=ilp(c=c,G=G,h=h,A=None,b=None,I=set([0,1,2,3]))"
   ]
  },
  {
   "cell_type": "code",
   "execution_count": 39,
   "metadata": {},
   "outputs": [
    {
     "data": {
      "text/plain": [
       "((4, 1), (4, 4), (4, 1))"
      ]
     },
     "execution_count": 39,
     "metadata": {},
     "output_type": "execute_result"
    }
   ],
   "source": [
    "c.size,G.size,h.size"
   ]
  },
  {
   "cell_type": "code",
   "execution_count": 7,
   "metadata": {},
   "outputs": [
    {
     "data": {
      "text/plain": [
       "'optimal'"
      ]
     },
     "execution_count": 7,
     "metadata": {},
     "output_type": "execute_result"
    }
   ],
   "source": [
    "status"
   ]
  },
  {
   "cell_type": "code",
   "execution_count": 8,
   "metadata": {},
   "outputs": [
    {
     "name": "stdout",
     "output_type": "stream",
     "text": [
      "[ 1.50e+01]\n",
      "[ 1.60e+01]\n",
      "[ 3.30e+01]\n",
      "[ 1.16e+02]\n",
      "\n",
      "15.0 16.0 33.0 116.0\n"
     ]
    }
   ],
   "source": [
    "print(x)\n",
    "print(x[0],x[1],x[2],x[3])"
   ]
  },
  {
   "cell_type": "markdown",
   "metadata": {},
   "source": [
    "```python\n",
    "(status, x) = ilp(c, G, h, A, b, I, B)\n",
    "    \n",
    "    PURPOSE\n",
    "    Solves the mixed integer linear programming problem\n",
    "    \n",
    "        minimize    c'*x\n",
    "        subject to  G*x <= h\n",
    "                    A*x = b\n",
    "                    x[k] is integer for k in I\n",
    "                    x[k] is binary for k in B\n",
    "```\n",
    "所以很明显，c是系数矩阵，x是决策向量，A是等式约束，b是常数向量，G是不等式约束，h是对应的不等式常数向量。\n",
    "\n",
    "I是整数变量索引的集合，B是二进制变量索引的集合（用来进行0-1 ILP问题）。"
   ]
  },
  {
   "cell_type": "markdown",
   "metadata": {},
   "source": [
    "### Pulp库"
   ]
  },
  {
   "cell_type": "markdown",
   "metadata": {},
   "source": [
    "由于下面这个整数规划中没有不等式约束，无法使用cvxopt，所以根据[stackoverflow的回答](https://stackoverflow.com/questions/15029145/using-cvxopt-for-lp-problems-with-only-aeq-beq-no-constraints-with-ax-b),这个人遇到了和我一样的问题，遇到了一个没有不等式约束的01规划问题，所以转而去使用[pulp库](https://github.com/coin-or/pulp)或pyglpk了\n",
    "\n",
    "+ [pulp IP问题](https://pythonhosted.org/PuLP/pulp.html#module-pulp)\n",
    "+ [数独问题01规划](https://pythonhosted.org/PuLP/CaseStudies/a_sudoku_problem.html?highlight=example)\n",
    "+ [运输分配问题 线性规划](https://pythonhosted.org/PuLP/CaseStudies/a_transportation_problem.html?highlight=example)\n",
    "+ [pulp案例学习](https://pythonhosted.org/PuLP/CaseStudies/)"
   ]
  },
  {
   "cell_type": "markdown",
   "metadata": {},
   "source": [
    "### 0-1整数规划（没有不等式约束）"
   ]
  },
  {
   "cell_type": "markdown",
   "metadata": {},
   "source": [
    "在一些决策问题中，当每个需要做的决策只有两种时，可以使用0-1整数规划来建模。而0-1整数规划是整数规划中的特殊情形，它的决策变量\n",
    "$x_i$只取值0或者1"
   ]
  },
  {
   "cell_type": "markdown",
   "metadata": {},
   "source": [
    "**例1.3** 指派问题\n",
    "\n",
    "**问题：** 拟分配$n$人去干$n$项工作，每人干且仅干一项工作，若分配第$i$人去干第$j$项工作，需花费$c_{ij}$单位时间，问应如何分配工作才能使工人花费的总时间最少\n",
    "\n",
    "**问题分析：**在该问题中，每一个人均能从事所有的工作，只是从事不同的工作需要花费的单位时间不同而已。由于每个人干且仅干一项工作，所以第$i$人和第$j$项工作之间，只存在干与不干的关系，因此，可以用1和0来刻画第$i$人和第$j$项工作之间干与不干的关系，进而建立0-1规划模型\n",
    "\n",
    "**建模步骤：**\n",
    "\n",
    "（1）寻求决策：工人花费的总时间最少\n",
    "\n",
    "（2）决策变量：由于每个人和每项工作之间均需建立关系，所以用变量$x_{ij}$来描述第$i$人和第$j$项工作之间干与不干的关系，\n",
    "$x_{ij}$=1，干，$x_{ij}=0$ 不干\n",
    "\n",
    "（3）确定优化目标：\n",
    "\n",
    "对于第$i$人，若被分配去干第$j$个工作，此时$x_{ij}=1$,所需时间为$c_{ij}$,所不被分配去干第$j$项工作，则需要时间为0，所以第$i$人分配干第$j$项工作的时间可以用$c_{ij}x_{ij}$来表示。\n",
    "\n",
    "由于在所有工作中，第$i$个人干且仅干一项工作，假设第$i$个人去干第$j_0$项工作，当$j \\neq j_0$,则花费的时间为 $c_{ij}x_{ij}=0$,所以第$i$人总共花费的单位时间为 $c_{ij_0}x_{ij_0}=\\sum_{j=1}^nc_{ij}x_{ij}$,所以所有人花费的总时间是：\n",
    "$T=\\sum_{i=1}^n\\sum_{j=1}^nc_{ij}x_{ij}$, $n$个工作，$n$个人\n",
    "\n",
    "（4）约束条件\n",
    "\n",
    "因为是$n$个工作$n$个人且每人干且仅干一个工作,所以每个人要干一个工作，即对第$i$个人而言，$\\sum_{j=1}^nx_{ij}=1$,（这个人只干一个工作），对第$j$项工作而言，$\\sum_{i=1}^nx_{ij}=1$（这个工作只有一个人干）\n",
    "\n",
    "（5）构成数学模型\n",
    "\\begin{equation}\n",
    "min \\quad T=\\sum_{i=1}^n\\sum_{j=1}^nc_{ij}x_{ij} \\\\\n",
    "s.t.=\\left\\{\n",
    "\\begin{aligned}\n",
    "\\sum_{j=1}^nx_{ij}=1 (i=1,2,...,n)\\\\\n",
    "\\sum_{i=1}^nx_{ij}=1 (j=1,2,...,n) \\\\\n",
    "x_{ij}=0 \\quad or \\quad 1(i,j=1,2,...,n) \\\\\n",
    "\\end{aligned}\n",
    "\\right.\n",
    "\\end{equation}\n",
    "\n",
    "不难看出，解决一个指派问题（0-1整数规划问题），只需要给出一个矩阵$\\mathbf{C}=c_{ij}$,$\\mathbf{C}$被称为指派问题的系数矩阵\n",
    "\n",
    "这里假设给出的矩阵为：\n",
    "\\begin{equation}\n",
    "\\mathbf{C}=\n",
    "\\begin{pmatrix} \n",
    "3&8&2&10&3\\\\\n",
    "8&7&2&9&7\\\\\n",
    "6&4&2&7&5\\\\\n",
    "8&4&2&3&5\\\\\n",
    "9&10&6&9&10\n",
    "\\end{pmatrix}\n",
    "\\end{equation}\n",
    "\n",
    "也就是5个人，5个工作,其实要得到25个决策变量。。。由于$x_{ij}(i,j=1,2,3,4,5)$是二维决策变量，要求解的话要变成一维决策变量，$y_k(k=1,2,...25)$\n",
    "\n",
    "**等式约束**\n",
    "\n",
    "$A_{eq}x=beq$ 这里$x$决策变量是25d，$beq$是10，所以不难推断出$A_{eq}$是$10\\times25$d,另外，上面的两个等式约束其实可以用一个式子来表示，$x_{ij}$是一个25d的变量，其实把式子全部列出来就明白了\n",
    "\n",
    "当i=0-4时,5个式子\n",
    "\\begin{equation}\n",
    "\\text{i=0} \\quad 1x_{11}+1x_{12}+1x_{13}+1x_{14}+1x_{15}+0x_{21}+...+0x_{25}+0x_{31}+...+0x_{35}...+0x_{55}=1  \\\\\n",
    "\\text{i=1} \\quad 0x_{11}...+0x_{15}+1x_{21}+1x_{22}+1x_{23}+1x_{24}+1x_{25}+0x_{31}+...+0x_{35}...+0x_{55}=1   \n",
    "\\end{equation}\n",
    "\n",
    "找规律，系数为1的决策变量的序号\n",
    "+ 行序号直接就是i,\n",
    "+ 列序号范围分别是：0-4，5-9,10-14....则可以表示为$[i,5i:5i+4]$\n",
    "\n",
    "同理，当$j=0-4$时，也是五个式子\n",
    "\n",
    "\\begin{equation}\n",
    "1x_{11}+0x_{12}+...+0x_{15}+1x_{21}+0x_{22}..+0x_{25}+...+1x_{51}+0x_{52}+0x_{55}=1\n",
    "\\end{equation}\n",
    "\n",
    "找规律，则系数为1的决策变量的序号\n",
    "+ 行序号需要加5，即$i+5$\n",
    "+ 列序号，\n",
    "    + j=0时，numpy中对应列序号是5，列的系数值是 1 0 0 0 0 1 0 0 0 0 1 0 0 0 0 1 0 0 0 0\n",
    "    + j=1时，numpy中对应列序号是6，列的系数值是 0 1 0 0 0 0 1 0 0 0 0 1 0 0 0 0 1 0 0 0\n",
    "    + 所以后五行的取值规律是： [i+5,i:25:5]"
   ]
  },
  {
   "cell_type": "markdown",
   "metadata": {},
   "source": [
    "在 [在线的matlab网站](https://octave-online.net/)中输入：\n",
    "\n",
    "```\n",
    "for i=1:5\n",
    "    a(i,(i-1)*5+1:5*i)=1;\n",
    "    a(5+i,i:5:25)=1;\n",
    "end\n",
    "```\n",
    "就可以看到a的全貌了,这里注意matlab和numpy有个很大的区别就是，\n",
    "+ matlab的切片是[start:step:end]  且开始和结束都是闭\n",
    "+ numpy的切片，开始:结束:步长   [start,end)是左闭右开\n",
    "\n",
    "可以对比A[0:5,:]和在线matlab中输入 a(1:5,:),以及A[5:10,:]和 a(6:10,:)"
   ]
  },
  {
   "cell_type": "code",
   "execution_count": 59,
   "metadata": {},
   "outputs": [],
   "source": [
    "# 无法得到结果的代码。。。错误，放弃\n",
    "c=matrix(np.array([[3,8,2,10,3],[8,7,2,9,7],[6,4,2,7,5],[8,4,2,3,5],[9,10,6,9,10]]).reshape(25,1),tc='d')\n",
    "A=np.zeros(shape=(10,25),dtype=float)\n",
    "\n",
    "for i in range(0,5):\n",
    "    A[i,i*5:5*i+5]=1  #0 1 2 3 4 行\n",
    "    A[5+i,i:25:5]=1  # 5 6 7 8 9 行\n",
    "    \n",
    "A=matrix(A)\n",
    "b=matrix(np.ones(shape=(10,1)),tc='d')\n",
    "\n",
    "#很明显这个问题中，是没有不等式约束的，所以G=None，h=None，但是如果不写G和h就会报错，所以填一个空的矩阵上去就可以\n",
    "# G*x <= h 根据这个，很明显 G全为1的时候，由于x最大就是1，所以肯定<=1 \n",
    "G=matrix(0,(10,25),tc='d')\n",
    "h=matrix(0,(10,1),tc='d')\n",
    "\n",
    "(status,x)=ilp(c=c,A=A,b=b,B=set(range(10)))\n",
    "# 然鹅  status 'LP relaxation is dual infeasible'"
   ]
  },
  {
   "cell_type": "code",
   "execution_count": 66,
   "metadata": {},
   "outputs": [],
   "source": [
    "import pulp"
   ]
  },
  {
   "cell_type": "markdown",
   "metadata": {},
   "source": [
    "### 另一个0-1整数规划的例子(有不等式约束和等式约束)"
   ]
  },
  {
   "cell_type": "markdown",
   "metadata": {},
   "source": [
    "**例1.4** 某公司有5个项目被列入投资计划，各项目的投资额和期望的投资收益如下表所示，该公司只有600百万资可用于投资，由于技术上的原因投资受到以下约束：\n",
    "\n",
    "（1）在项目1,2和3中必须有一项被选中\n",
    "\n",
    "（2）项目3和项目4只能选中一项\n",
    "\n",
    "（3）项目5被选中的前提是项目1必须被选中    即$x_5\\leq x_1$可以化为$-x_1+x_5\\leq 0$\n",
    "\n",
    "如何在上述条件下选择一个最好的投资方案，使投资收益最大？\n",
    "\n",
    "| 项目 | 投资额（百万元） | 投资收益（百万元） |\n",
    "|------|------------------|--------------------|\n",
    "| 1    | 210              | 150                |\n",
    "| 2    | 300              | 210                |\n",
    "| 3    | 100              | 60                 |\n",
    "| 4    | 130              | 80                 |\n",
    "| 5    | 260              | 180                |"
   ]
  },
  {
   "cell_type": "markdown",
   "metadata": {},
   "source": [
    "**问题分析：** 该问题是个投资决策问题，由于每个项目的投资额和投资收益是固定的，因此对每个项目而言，不存在投资某个项目多少个的问题，只存在是否被选中的问题，选/不选 这种两元问题就可以使用0-1规划问题\n",
    "\n",
    "**建模步骤**\n",
    "\n",
    "（1）寻求决策： 使投资收益最大\n",
    "\n",
    "（2）确定决策变量：每个项目选或者不选，设五个项目选或不选分别为$x_i$， $x_i=1$表示选，$x_i=0$表示不选\n",
    "\n",
    "（3）确定优化目标: $max \\quad S=150x_1+210x_2+60x_3+80x_4+180x_5$\n",
    "\n",
    "（4）约束条件：投资额一共600百万，（1）（2）（3）个表示一个约束\n",
    "\n",
    "（5）构成数学模型：\n",
    "\n",
    "\\begin{equation}\n",
    "max\\quad S=150x_1+210x_2+60x_3+80x_4+180x_5 \\\\\n",
    "\\text{s.t.}=\\left\\{\n",
    "\\begin{aligned}\n",
    "210x_1+300x_2+100x_3+130x_4+260x_5\\leq 600\\\\\n",
    "x_1+x_2+x_3=1\\\\\n",
    "x_3+x_4\\leq1\\\\\n",
    "-x_1+x_5\\leq0\n",
    "\\end{aligned}\n",
    "\\right.\n",
    "\\end{equation}"
   ]
  },
  {
   "cell_type": "code",
   "execution_count": 44,
   "metadata": {},
   "outputs": [],
   "source": [
    "c=matrix(np.array([-150,-210,-60,-80,-180],dtype=float))\n",
    "# 不能np.array(-1*[150,210,60,80,180],dtype=float)，否则c.size=(0,1)就不对了\n",
    "\n",
    "G=matrix(np.array([[210,300,100,130,260],[0,0,1,1,0],[-1,0,0,0,1]]),tc='d')\n",
    "h=matrix([600,1,0],tc='d')\n",
    "A=matrix(np.array([1,1,1,0,0]).reshape(1,5),tc='d')\n",
    "b=matrix([1],tc='d')\n",
    "\n",
    "(status,x)=ilp(c=c,G=G,h=h,A=A,b=b,B=set(range(5)))"
   ]
  },
  {
   "cell_type": "markdown",
   "metadata": {},
   "source": [
    "维度方面 $c'$是转置，也就是说x应该基本都是$n*1$"
   ]
  },
  {
   "cell_type": "code",
   "execution_count": 45,
   "metadata": {},
   "outputs": [
    {
     "data": {
      "text/plain": [
       "((1, 5), (1, 1), (3, 5), (3, 1), (5, 1))"
      ]
     },
     "execution_count": 45,
     "metadata": {},
     "output_type": "execute_result"
    }
   ],
   "source": [
    "A.size, b.size,G.size,h.size,c.size"
   ]
  },
  {
   "cell_type": "code",
   "execution_count": 46,
   "metadata": {},
   "outputs": [
    {
     "data": {
      "text/plain": [
       "'optimal'"
      ]
     },
     "execution_count": 46,
     "metadata": {},
     "output_type": "execute_result"
    }
   ],
   "source": [
    "status"
   ]
  },
  {
   "cell_type": "code",
   "execution_count": 48,
   "metadata": {},
   "outputs": [
    {
     "name": "stdout",
     "output_type": "stream",
     "text": [
      "[ 1.00e+00]\n",
      "[ 0.00e+00]\n",
      "[ 0.00e+00]\n",
      "[ 1.00e+00]\n",
      "[ 1.00e+00]\n",
      "\n"
     ]
    }
   ],
   "source": [
    "print(x)"
   ]
  },
  {
   "cell_type": "markdown",
   "metadata": {},
   "source": [
    "**结果分析：** \n",
    "\n",
    "投资第一第四和第五个项目时可以得到最大收益（ilp不会直接给出目标函数的最优值，而只会给出一组最优解。。需要自己算）\n",
    "150+80+180=410"
   ]
  },
  {
   "cell_type": "code",
   "execution_count": null,
   "metadata": {},
   "outputs": [],
   "source": []
  }
 ],
 "metadata": {
  "kernelspec": {
   "display_name": "Python 3",
   "language": "python",
   "name": "python3"
  },
  "language_info": {
   "codemirror_mode": {
    "name": "ipython",
    "version": 3
   },
   "file_extension": ".py",
   "mimetype": "text/x-python",
   "name": "python",
   "nbconvert_exporter": "python",
   "pygments_lexer": "ipython3",
   "version": "3.6.6"
  },
  "toc": {
   "base_numbering": 1,
   "nav_menu": {},
   "number_sections": true,
   "sideBar": true,
   "skip_h1_title": false,
   "title_cell": "Table of Contents",
   "title_sidebar": "Contents",
   "toc_cell": false,
   "toc_position": {
    "height": "calc(100% - 180px)",
    "left": "10px",
    "top": "150px",
    "width": "273.188px"
   },
   "toc_section_display": true,
   "toc_window_display": true
  }
 },
 "nbformat": 4,
 "nbformat_minor": 2
}
