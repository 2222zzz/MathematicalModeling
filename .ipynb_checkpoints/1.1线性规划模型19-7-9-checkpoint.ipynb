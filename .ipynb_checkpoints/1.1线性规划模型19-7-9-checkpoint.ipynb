{
 "cells": [
  {
   "cell_type": "markdown",
   "metadata": {},
   "source": [
    "# 数学规划模型"
   ]
  },
  {
   "cell_type": "markdown",
   "metadata": {},
   "source": [
    "**优化问题**一般是指用“最好”的方式，使用或分配如劳动力，原材料，设备，资金等有限的资源，使得投入成本最小或者获利最大，其可以归结为如下优化模型：\n",
    "\n",
    "\\begin{equation}\n",
    "min(max) \\quad z=f(x)\\\\\n",
    "\\text{s.t.}  \\quad g_i(x)\\leq0,i=1,2,..m\n",
    "\\label{equ1}\\tag{1}\n",
    "\\end{equation}\n",
    "\n",
    "其中，$\\mathbf{x}=\\{x_1,x_2,...x_n\\}$表示决策变量，$f(x)$表示目标函数，$g_i(x)\\leq 0(i=1,2,...,m)$表示约束条件。约束条件决定了决策变量$\\mathbf{x}$的允许取值范围，即$\\mathbf{x}\\in\\Omega$，其中$\\Omega$称为(\\ref{equ1})解的可行域"
   ]
  },
  {
   "cell_type": "markdown",
   "metadata": {},
   "source": [
    "当打算用**数学规划**的方法来处理一个**优化问题**的时候\n",
    "+ 1 首先要确定**优化目标**是什么，决定优化目标需寻求的决策是什么，决策收到哪些条件的限制\n",
    "+ 2 再次用数学工具表示出来，即建立数学规划模型\n",
    "+ 3 最后利用数学规划的方法和相应软件求解，并对结果做一些定性，定量的分析和必要的检验"
   ]
  },
  {
   "cell_type": "markdown",
   "metadata": {},
   "source": [
    "> 根据目标函数和约束条件的形式，可将数学规划模型分为<br>**1.线性规划模型，2.整数规划模型，3.非线性规划模型，4.目标规划模型和5.动态规划模型**   等"
   ]
  },
  {
   "cell_type": "markdown",
   "metadata": {},
   "source": [
    "##  线性规划模型"
   ]
  },
  {
   "cell_type": "markdown",
   "metadata": {},
   "source": [
    "当(1)中的目标函数$f(x)$和约束条件中的$g_i(x)(i=1,2,...m)$均为线性函数时，称模型（1）为线性规划模型，线性规划模型可以具体表示为：\n",
    "\n",
    "\\begin{equation}\n",
    "min(max) \\quad z=\\sum_{i=1}^nc_ix_i\\\\\n",
    "\\text{s.t.}  \\quad \\sum_{j=1}^na_{ij}x_j\\leq b_i,i=1,2,..m\n",
    "\\label{equ2}\\tag{2}\n",
    "\\end{equation}\n",
    "\n",
    "矩阵形式为：\n",
    "\n",
    "\\begin{equation}\n",
    "min(max) \\quad z=\\mathbf{c}^T\\mathbf{x}\\\\\n",
    "\\text{s.t.} \\quad \\mathbf{Ax}\\leq \\mathbf{b},i=1,2,..m\n",
    "\\label{equ3}\\tag{3}\n",
    "\\end{equation}\n",
    "\n",
    "其中，$\\mathbf{x}=\\{x_1,x_2,...x_n\\}^T$为决策向量；$\\mathbf{c}=\\{c_1,c_2,...c_n\\}^T$为目标函数的系数向量，$\\mathbf{b}=\\{b_1,b_2,...b_n\\}^T$为常数向量，$A=(a_{ij})_{m\\times n}$为系数矩阵"
   ]
  },
  {
   "cell_type": "markdown",
   "metadata": {},
   "source": [
    "### 线性规划模型的建立"
   ]
  },
  {
   "cell_type": "markdown",
   "metadata": {},
   "source": [
    "**例1.1** 任务分配问题\n",
    "\n",
    "**问题**： 某车间有甲，乙两台机床，可用于加工3种工件。假定这两台车床的可用台时数分别为800和900，3种工件的数量分别为400,600和500，且已知用2种不同车床加工单位数量不同的工件所需的台时数和加工费用如表1.1所示。\n",
    "\n",
    "| 车床类型 |  单位加工所需加工台时数   |  单位加工的加工费用       | 可用台时数 |\n",
    "|----------|------------------------|--------------------|------------|\n",
    " | -   |   工件1  &  工件2&  工件3 | 工件1 &工件2 &工件3 |            |\n",
    "| 甲       | 0.4 & 1.1&  1.0   | 13  &9& 10    | 800        |\n",
    "| 乙       | 0.5  &  1.2 &  1.3   | 11 &12 &8   | 900        |\n",
    "\n",
    "**问：** 怎样分配车床的加工任务，才能既满足加工工件的要求，又使加工费用最低？\n",
    "\n",
    "**问题分析：**\n",
    "+ 这个优化问题的目标是使加工费用最低\n",
    "+ 要做的决策是根据甲乙机床加工三种工件的加工时间和费用来分配两种机床对三种工件的加工任务，使得在满足任务的情况下，加工费用最低。\n",
    "**建模步骤**：\n",
    "\n",
    "（1）寻求决策\n",
    "\n",
    "要回答的是，给两种机床的任务分配如何以及加工费用为多少\n",
    "\n",
    "（2）决定决策变量\n",
    "\n",
    "本问题中，决定决策（加工费用）的是两种机床分别将加工三种工件的数量，所以设分配给甲机床的加工三种工件的数量分别为$x_1,x_2,x_3$，同理，分配给乙的设为$x_3,x_4,x_5$\n",
    "\n",
    "（3）确定优化目标\n",
    "\n",
    "本问题的目标是使加工费用最低，则目标函数可表示为：\n",
    "\n",
    "$$z=13x_1+9x_2+10x_3+11x_4+12x_5+8x_6$$\n",
    "\n",
    "（4）寻找约束条件\n",
    "\n",
    "不难得知两个机床关于三种工件的加工数量的约束是3个**等式约束**，机床的可用台时数是2个**不等式约束**，此外，根据问题实际，各决策变量还有**非负约束**\n",
    "\n",
    "（5）构成数学模型\n",
    "\n",
    "将目标函数和约束条件放在一起，就得到了数学模型：\n",
    "\\begin{equation}\n",
    "min \\quad z=13x_1+9x_2+10x_3+11x_4+12x_5+8x_6  \\\\\n",
    "s.t. =\\left\\{\n",
    "\\begin{aligned}\n",
    "x_1 +x_4& = &400  \\\\\n",
    "x_2 +x_5& = &600  \\\\\n",
    "x_3 +x_6& = &500  \\\\\n",
    "0.4x_1+1.1x_2+x_3 &\\leq& 800 \\\\\n",
    "0.5x_4+1.2x_5+1.3x_6 &\\leq& 900  \\\\\n",
    "x_i \\geq 0,i=1,2,...6\n",
    "\\end{aligned}\n",
    "\\right.\n",
    "\\end{equation}"
   ]
  },
  {
   "cell_type": "markdown",
   "metadata": {},
   "source": [
    "### 线性规划模型的求解"
   ]
  },
  {
   "cell_type": "code",
   "execution_count": null,
   "metadata": {},
   "outputs": [],
   "source": []
  }
 ],
 "metadata": {
  "kernelspec": {
   "display_name": "Python 3",
   "language": "python",
   "name": "python3"
  },
  "language_info": {
   "codemirror_mode": {
    "name": "ipython",
    "version": 3
   },
   "file_extension": ".py",
   "mimetype": "text/x-python",
   "name": "python",
   "nbconvert_exporter": "python",
   "pygments_lexer": "ipython3",
   "version": "3.6.6"
  },
  "toc": {
   "base_numbering": 1,
   "nav_menu": {},
   "number_sections": true,
   "sideBar": true,
   "skip_h1_title": false,
   "title_cell": "Table of Contents",
   "title_sidebar": "Contents",
   "toc_cell": false,
   "toc_position": {},
   "toc_section_display": true,
   "toc_window_display": false
  }
 },
 "nbformat": 4,
 "nbformat_minor": 2
}
